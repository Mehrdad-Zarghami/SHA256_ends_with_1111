{
 "cells": [
  {
   "cell_type": "markdown",
   "metadata": {},
   "source": [
    "# Adding a number to the end of our string so that we get the desiered hash: "
   ]
  },
  {
   "cell_type": "code",
   "execution_count": 1,
   "metadata": {},
   "outputs": [],
   "source": [
    "import hashlib"
   ]
  },
  {
   "cell_type": "code",
   "execution_count": 2,
   "metadata": {},
   "outputs": [
    {
     "name": "stdout",
     "output_type": "stream",
     "text": [
      "Found it, the string is my name is mehrdad zarghami and my student number is 8856719,--4100\n",
      "3141007b744c30914b0ddf4c11d28b1e6b34de04737ba5e57cd5d4feece11111\n"
     ]
    }
   ],
   "source": [
    "i = 0\n",
    "while True:\n",
    "    i =i+1\n",
    "    data = 'my name is mehrdad zarghami and my student number is 8856719,--' + str(i)\n",
    "    m = hashlib.sha256()\n",
    "    m.update(data.encode('utf-8'))\n",
    "    hash = m.hexdigest()\n",
    "    if hash[-4:] == '1111':\n",
    "        print(f'Found it, the string is {data}')\n",
    "        print(hash)\n",
    "        break"
   ]
  },
  {
   "cell_type": "code",
   "execution_count": 55,
   "metadata": {},
   "outputs": [
    {
     "name": "stdout",
     "output_type": "stream",
     "text": [
      "Found it, the string is my name is mehrdad zarghami and my student number is 8856719, 270911\n",
      "35af846961771aa47845343934a95753ffaea327afd70bebddf2c8dccfb01111\n"
     ]
    }
   ],
   "source": [
    "i = 0\n",
    "while True:\n",
    "    i =i+1\n",
    "    data = 'my name is mehrdad zarghami and my student number is 8856719, ' + str(i)\n",
    "    m = hashlib.sha256()\n",
    "    m.update(data.encode('utf-8'))\n",
    "    hash = m.hexdigest()\n",
    "    if hash[-4:] == '1111':\n",
    "        print(f'Found it, the string is {data}')\n",
    "        print(hash)\n",
    "        break"
   ]
  },
  {
   "attachments": {},
   "cell_type": "markdown",
   "metadata": {},
   "source": [
    "# Change the letters to uppercase  so that we get the desiered hash\n"
   ]
  },
  {
   "attachments": {},
   "cell_type": "markdown",
   "metadata": {},
   "source": [
    "## Strings of alphabets only"
   ]
  },
  {
   "cell_type": "code",
   "execution_count": 24,
   "metadata": {},
   "outputs": [
    {
     "name": "stdout",
     "output_type": "stream",
     "text": [
      "abcdefghijklmnopqrstuvwxyz\n",
      "ABCDEFGHIJKLMNOPQRSTUVWXYZ\n",
      "abcdefghijklmnopqrstuvwxyzABCDEFGHIJKLMNOPQRSTUVWXYZ\n",
      "<class 'str'>\n"
     ]
    }
   ],
   "source": [
    "_lowercase = 'abcdefghijklmnopqrstuvwxyz'\n",
    "_upercase =str(_lowercase.upper())\n",
    "_alphabet = (_lowercase + _upercase)\n",
    "print(_lowercase)\n",
    "print(_upercase)\n",
    "print(_alphabet)\n",
    "print(type(_alphabet))"
   ]
  },
  {
   "cell_type": "code",
   "execution_count": 13,
   "metadata": {},
   "outputs": [
    {
     "name": "stdout",
     "output_type": "stream",
     "text": [
      "43\n"
     ]
    }
   ],
   "source": [
    "_lowercase = 'abcdefghijklmnopqrstuvwxtyz'\n",
    "_upercase = _lowercase.upper\n",
    "alphabet_len = 0\n",
    "for c in data:\n",
    "    if c in _alphabet:\n",
    "        alphabet_len += 1\n",
    "\n",
    "print(alphabet_len)"
   ]
  },
  {
   "cell_type": "code",
   "execution_count": 6,
   "metadata": {},
   "outputs": [
    {
     "name": "stdout",
     "output_type": "stream",
     "text": [
      "ABCCC\n",
      "False\n",
      "True\n"
     ]
    }
   ],
   "source": [
    "tmp = 'abccc'\n",
    "tmp1 = ' '\n",
    "tmpu = tmp.upper()\n",
    "tmp1u = tmp1.upper()\n",
    "print(tmpu)\n",
    "print(tmpu == tmp)\n",
    "print(tmp1u == tmp1)"
   ]
  },
  {
   "cell_type": "code",
   "execution_count": 40,
   "metadata": {},
   "outputs": [
    {
     "data": {
      "text/plain": [
       "['a', 'b', 'c', 'c', 'c']"
      ]
     },
     "execution_count": 40,
     "metadata": {},
     "output_type": "execute_result"
    }
   ],
   "source": [
    "list(tmp)"
   ]
  },
  {
   "cell_type": "code",
   "execution_count": 57,
   "metadata": {},
   "outputs": [],
   "source": [
    "data = 'my name is mehrdad zarghami and my student number is 8856719, '"
   ]
  },
  {
   "cell_type": "code",
   "execution_count": 4,
   "metadata": {},
   "outputs": [
    {
     "data": {
      "text/plain": [
       "'01100'"
      ]
     },
     "execution_count": 4,
     "metadata": {},
     "output_type": "execute_result"
    }
   ],
   "source": [
    "# binary representation with fixed length\n",
    "x = 12\n",
    "y = format(x, '05b')\n",
    "y"
   ]
  },
  {
   "cell_type": "code",
   "execution_count": 8,
   "metadata": {},
   "outputs": [],
   "source": [
    "tmp = 'abcd'"
   ]
  },
  {
   "cell_type": "code",
   "execution_count": 9,
   "metadata": {},
   "outputs": [
    {
     "name": "stdout",
     "output_type": "stream",
     "text": [
      "0000\n",
      "0001\n",
      "0010\n",
      "0011\n",
      "0100\n",
      "0101\n",
      "0110\n",
      "0111\n",
      "1000\n",
      "1001\n",
      "1010\n",
      "1011\n",
      "1100\n",
      "1101\n",
      "1110\n",
      "1111\n"
     ]
    }
   ],
   "source": [
    "for i in range(2**len(tmp)):\n",
    "    print(format(i, '04b'))"
   ]
  },
  {
   "cell_type": "code",
   "execution_count": 12,
   "metadata": {},
   "outputs": [
    {
     "name": "stdout",
     "output_type": "stream",
     "text": [
      "['a', 'b', 'c', 'd']\n",
      "['a', 'b', 'c', 'D']\n",
      "['a', 'b', 'C', 'd']\n",
      "['a', 'b', 'C', 'D']\n",
      "['a', 'B', 'c', 'd']\n",
      "['a', 'B', 'c', 'D']\n",
      "['a', 'B', 'C', 'd']\n",
      "['a', 'B', 'C', 'D']\n",
      "['A', 'b', 'c', 'd']\n",
      "['A', 'b', 'c', 'D']\n",
      "['A', 'b', 'C', 'd']\n",
      "['A', 'b', 'C', 'D']\n",
      "['A', 'B', 'c', 'd']\n",
      "['A', 'B', 'c', 'D']\n",
      "['A', 'B', 'C', 'd']\n",
      "['A', 'B', 'C', 'D']\n"
     ]
    }
   ],
   "source": [
    "for i in range(2**len(tmp)):\n",
    "    binstr = format(i, '04b')\n",
    "    liststr = [c.upper() if binstr[j] =='1' else c  for j, c in enumerate(tmp)]\n",
    "    print(liststr)"
   ]
  },
  {
   "cell_type": "code",
   "execution_count": 13,
   "metadata": {},
   "outputs": [
    {
     "name": "stdout",
     "output_type": "stream",
     "text": [
      "abcd\n",
      "abcD\n",
      "abCd\n",
      "abCD\n",
      "aBcd\n",
      "aBcD\n",
      "aBCd\n",
      "aBCD\n",
      "Abcd\n",
      "AbcD\n",
      "AbCd\n",
      "AbCD\n",
      "ABcd\n",
      "ABcD\n",
      "ABCd\n",
      "ABCD\n"
     ]
    }
   ],
   "source": [
    "for i in range(2**len(tmp)):\n",
    "    binstr = format(i, '04b')\n",
    "    liststr = [c.upper() if binstr[j] =='1' else c  for j, c in enumerate(tmp)]\n",
    "    print(''.join(liststr))"
   ]
  },
  {
   "cell_type": "code",
   "execution_count": 14,
   "metadata": {},
   "outputs": [
    {
     "name": "stdout",
     "output_type": "stream",
     "text": [
      "abcd\n",
      "abcD\n",
      "abCd\n",
      "abCD\n",
      "aBcd\n",
      "aBcD\n",
      "aBCd\n",
      "aBCD\n",
      "Abcd\n",
      "AbcD\n",
      "AbCd\n",
      "AbCD\n",
      "ABcd\n",
      "ABcD\n",
      "ABCd\n",
      "ABCD\n"
     ]
    }
   ],
   "source": [
    "for i in range(2**len(tmp)):\n",
    "    binstr = format(i, f'0{len(tmp)}b') # --> based on the length of our string\n",
    "    liststr = [c.upper() if binstr[j] =='1' else c  for j, c in enumerate(tmp)]\n",
    "    print(''.join(liststr))"
   ]
  },
  {
   "attachments": {},
   "cell_type": "markdown",
   "metadata": {},
   "source": [
    "## How to handle spaces and numbers (characters that do not have uppercase)"
   ]
  },
  {
   "cell_type": "code",
   "execution_count": 17,
   "metadata": {},
   "outputs": [],
   "source": [
    "tmp1 = 'ab c 1'"
   ]
  },
  {
   "cell_type": "code",
   "execution_count": 18,
   "metadata": {},
   "outputs": [
    {
     "name": "stdout",
     "output_type": "stream",
     "text": [
      "ab c 1\n",
      "ab c 1\n",
      "ab c 1\n",
      "ab c 1\n",
      "ab C 1\n",
      "ab C 1\n",
      "ab C 1\n",
      "ab C 1\n",
      "ab c 1\n",
      "ab c 1\n",
      "ab c 1\n",
      "ab c 1\n",
      "ab C 1\n",
      "ab C 1\n",
      "ab C 1\n",
      "ab C 1\n",
      "aB c 1\n",
      "aB c 1\n",
      "aB c 1\n",
      "aB c 1\n",
      "aB C 1\n",
      "aB C 1\n",
      "aB C 1\n",
      "aB C 1\n",
      "aB c 1\n",
      "aB c 1\n",
      "aB c 1\n",
      "aB c 1\n",
      "aB C 1\n",
      "aB C 1\n",
      "aB C 1\n",
      "aB C 1\n",
      "Ab c 1\n",
      "Ab c 1\n",
      "Ab c 1\n",
      "Ab c 1\n",
      "Ab C 1\n",
      "Ab C 1\n",
      "Ab C 1\n",
      "Ab C 1\n",
      "Ab c 1\n",
      "Ab c 1\n",
      "Ab c 1\n",
      "Ab c 1\n",
      "Ab C 1\n",
      "Ab C 1\n",
      "Ab C 1\n",
      "Ab C 1\n",
      "AB c 1\n",
      "AB c 1\n",
      "AB c 1\n",
      "AB c 1\n",
      "AB C 1\n",
      "AB C 1\n",
      "AB C 1\n",
      "AB C 1\n",
      "AB c 1\n",
      "AB c 1\n",
      "AB c 1\n",
      "AB c 1\n",
      "AB C 1\n",
      "AB C 1\n",
      "AB C 1\n",
      "AB C 1\n"
     ]
    }
   ],
   "source": [
    "for i in range(2**len(tmp1)):\n",
    "    binstr = format(i, f'0{len(tmp1)}b') # --> based on the length of our string\n",
    "    liststr = [c.upper() if binstr[j] =='1' else c  for j, c in enumerate(tmp1)]\n",
    "    print(''.join(liststr))\n",
    "\n",
    "    # creating 8 = 2**3 times more. 3 --> ' ', ' ', '1'"
   ]
  },
  {
   "cell_type": "code",
   "execution_count": 25,
   "metadata": {},
   "outputs": [
    {
     "name": "stdout",
     "output_type": "stream",
     "text": [
      "abcdefghijklmnopqrstuvwxyz\n",
      "ABCDEFGHIJKLMNOPQRSTUVWXYZ\n",
      "abcdefghijklmnopqrstuvwxyzABCDEFGHIJKLMNOPQRSTUVWXYZ\n",
      "<class 'str'>\n"
     ]
    }
   ],
   "source": [
    "_lowercase = 'abcdefghijklmnopqrstuvwxyz'\n",
    "_upercase =str(_lowercase.upper())\n",
    "_alphabet = (_lowercase + _upercase)\n",
    "print(_lowercase)\n",
    "print(_upercase)\n",
    "print(_alphabet)\n",
    "print(type(_alphabet))"
   ]
  },
  {
   "cell_type": "code",
   "execution_count": 26,
   "metadata": {},
   "outputs": [
    {
     "data": {
      "text/plain": [
       "[(0, 'a'), (1, 'b'), (2, ' '), (3, 'c'), (4, ' '), (5, '1')]"
      ]
     },
     "execution_count": 26,
     "metadata": {},
     "output_type": "execute_result"
    }
   ],
   "source": [
    "tmp1lst = list(enumerate(tmp1))\n",
    "tmp1lst"
   ]
  },
  {
   "cell_type": "code",
   "execution_count": 27,
   "metadata": {},
   "outputs": [
    {
     "data": {
      "text/plain": [
       "[(0, 'a'), (1, 'b'), (3, 'c')]"
      ]
     },
     "execution_count": 27,
     "metadata": {},
     "output_type": "execute_result"
    }
   ],
   "source": [
    "tmp1lst_edited = [i for i in tmp1lst if i[1] in _alphabet]\n",
    "tmp1lst_edited"
   ]
  },
  {
   "cell_type": "code",
   "execution_count": null,
   "metadata": {},
   "outputs": [],
   "source": []
  },
  {
   "cell_type": "code",
   "execution_count": 30,
   "metadata": {},
   "outputs": [
    {
     "data": {
      "text/plain": [
       "['a', 'b', 'c']"
      ]
     },
     "execution_count": 30,
     "metadata": {},
     "output_type": "execute_result"
    }
   ],
   "source": [
    "tmp1lst_edited_alphabetic = [c[1] for c in tmp1lst_edited]\n",
    "tmp1lst_edited_alphabetic"
   ]
  },
  {
   "cell_type": "code",
   "execution_count": 31,
   "metadata": {},
   "outputs": [
    {
     "name": "stdout",
     "output_type": "stream",
     "text": [
      "abc\n",
      "abC\n",
      "aBc\n",
      "aBC\n",
      "Abc\n",
      "AbC\n",
      "ABc\n",
      "ABC\n"
     ]
    }
   ],
   "source": [
    "for i in range(2**len(tmp1lst_edited_alphabetic)):\n",
    "    binstr = format(i, f'0{len(tmp1lst_edited_alphabetic)}b') # --> based on the length of our string\n",
    "    liststr = [c.upper() if binstr[j] =='1' else c  for j, c in enumerate(tmp1lst_edited_alphabetic)]\n",
    "    print(''.join(liststr))"
   ]
  },
  {
   "cell_type": "code",
   "execution_count": 33,
   "metadata": {},
   "outputs": [
    {
     "data": {
      "text/plain": [
       "[0, 1, 3]"
      ]
     },
     "execution_count": 33,
     "metadata": {},
     "output_type": "execute_result"
    }
   ],
   "source": [
    "index_alphabetic = [i[0] for i in tmp1lst_edited]\n",
    "index_alphabetic"
   ]
  },
  {
   "cell_type": "code",
   "execution_count": 35,
   "metadata": {},
   "outputs": [
    {
     "name": "stdout",
     "output_type": "stream",
     "text": [
      "ab c 1\n",
      "ab C 1\n",
      "aB c 1\n",
      "aB C 1\n",
      "Ab c 1\n",
      "Ab C 1\n",
      "AB c 1\n",
      "AB C 1\n"
     ]
    }
   ],
   "source": [
    "list_str_raw = list(tmp1)\n",
    "for i in range(2**len(tmp1lst_edited_alphabetic)):\n",
    "    binstr = format(i, f'0{len(tmp1lst_edited_alphabetic)}b') # --> based on the length of our string\n",
    "    liststr = [c.upper() if binstr[j] =='1' else c  for j, c in enumerate(tmp1lst_edited_alphabetic)]\n",
    "\n",
    "    for i,h in enumerate(index_alphabetic):\n",
    "        list_str_raw[h] = liststr[i]\n",
    "    restored_str = ''.join(list_str_raw)\n",
    "    print(restored_str)\n",
    "     \n",
    "    \n",
    "    "
   ]
  },
  {
   "attachments": {},
   "cell_type": "markdown",
   "metadata": {},
   "source": [
    "## Full code"
   ]
  },
  {
   "cell_type": "code",
   "execution_count": 52,
   "metadata": {},
   "outputs": [],
   "source": [
    "import hashlib"
   ]
  },
  {
   "cell_type": "code",
   "execution_count": 53,
   "metadata": {},
   "outputs": [],
   "source": [
    "_lowercase = 'abcdefghijklmnopqrstuvwxyz'\n",
    "_upercase =str(_lowercase.upper())\n",
    "_alphabet = (_lowercase + _upercase)"
   ]
  },
  {
   "cell_type": "code",
   "execution_count": 54,
   "metadata": {},
   "outputs": [],
   "source": [
    "data = 'my name is mehrdad zarghami and my student number is 8856719'"
   ]
  },
  {
   "cell_type": "code",
   "execution_count": 55,
   "metadata": {},
   "outputs": [],
   "source": [
    "tmp1lst = list(enumerate(data))\n",
    "tmp1lst_edited = [i for i in tmp1lst if i[1] in _alphabet]\n",
    "tmp1lst_edited_alphabetic = [i[1] for i in tmp1lst_edited]\n",
    "index_alphabetic = [i[0] for i in tmp1lst_edited]\n"
   ]
  },
  {
   "cell_type": "code",
   "execution_count": 60,
   "metadata": {},
   "outputs": [
    {
     "name": "stdout",
     "output_type": "stream",
     "text": [
      "Found it, the string is: my name is mehrdad zarghami and MY STudEnT nUmBeR is 8856719\n",
      "dda31fecae895e92c512dcdb223d178bb6f02898c08e3514715521e04c111111\n"
     ]
    }
   ],
   "source": [
    "while True:\n",
    "    \n",
    "    list_str_raw = list(data)\n",
    "    for i in range(2**len(tmp1lst_edited_alphabetic)):\n",
    "        binstr = format(i, f'0{len(tmp1lst_edited_alphabetic)}b') # --> based on the length of our string\n",
    "        liststr = [c.upper() if binstr[j] =='1' else c  for j, c in enumerate(tmp1lst_edited_alphabetic)]\n",
    "\n",
    "        for i,h in enumerate(index_alphabetic):\n",
    "            list_str_raw[h] = liststr[i]\n",
    "        restored_str = ''.join(list_str_raw)\n",
    "\n",
    "\n",
    "        m = hashlib.sha256()\n",
    "        m.update(restored_str.encode('utf-8'))\n",
    "        hash = m.hexdigest()\n",
    "        if hash[-5:] == '11111':\n",
    "            print(f'Found it, the string is: {restored_str}')\n",
    "            print(hash)\n",
    "            break\n",
    "\n",
    "    break"
   ]
  },
  {
   "cell_type": "code",
   "execution_count": null,
   "metadata": {},
   "outputs": [],
   "source": []
  }
 ],
 "metadata": {
  "kernelspec": {
   "display_name": "py38",
   "language": "python",
   "name": "py38"
  },
  "language_info": {
   "codemirror_mode": {
    "name": "ipython",
    "version": 3
   },
   "file_extension": ".py",
   "mimetype": "text/x-python",
   "name": "python",
   "nbconvert_exporter": "python",
   "pygments_lexer": "ipython3",
   "version": "3.8.13"
  },
  "orig_nbformat": 4,
  "vscode": {
   "interpreter": {
    "hash": "909ddb93f6dc61defc84d79f3004824a64932bd860d8a04025bf0b8a21221da0"
   }
  }
 },
 "nbformat": 4,
 "nbformat_minor": 2
}
